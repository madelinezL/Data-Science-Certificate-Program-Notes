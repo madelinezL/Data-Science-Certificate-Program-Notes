{
 "cells": [
  {
   "cell_type": "code",
   "execution_count": 6,
   "id": "52bd196c",
   "metadata": {},
   "outputs": [
    {
     "name": "stdout",
     "output_type": "stream",
     "text": [
      "Requirement already satisfied: spotipy in c:\\users\\madlin\\anaconda3\\lib\\site-packages (2.22.1)Note: you may need to restart the kernel to use updated packages.\n",
      "\n",
      "Requirement already satisfied: requests>=2.25.0 in c:\\users\\madlin\\anaconda3\\lib\\site-packages (from spotipy) (2.28.1)\n",
      "Requirement already satisfied: six>=1.15.0 in c:\\users\\madlin\\anaconda3\\lib\\site-packages (from spotipy) (1.16.0)\n",
      "Requirement already satisfied: redis>=3.5.3 in c:\\users\\madlin\\anaconda3\\lib\\site-packages (from spotipy) (4.5.1)\n",
      "Requirement already satisfied: urllib3>=1.26.0 in c:\\users\\madlin\\anaconda3\\lib\\site-packages (from spotipy) (1.26.11)\n",
      "Requirement already satisfied: async-timeout>=4.0.2 in c:\\users\\madlin\\anaconda3\\lib\\site-packages (from redis>=3.5.3->spotipy) (4.0.2)\n",
      "Requirement already satisfied: certifi>=2017.4.17 in c:\\users\\madlin\\anaconda3\\lib\\site-packages (from requests>=2.25.0->spotipy) (2022.9.14)\n",
      "Requirement already satisfied: idna<4,>=2.5 in c:\\users\\madlin\\anaconda3\\lib\\site-packages (from requests>=2.25.0->spotipy) (3.3)\n",
      "Requirement already satisfied: charset-normalizer<3,>=2 in c:\\users\\madlin\\anaconda3\\lib\\site-packages (from requests>=2.25.0->spotipy) (2.0.4)\n"
     ]
    }
   ],
   "source": [
    "pip install spotipy"
   ]
  },
  {
   "cell_type": "code",
   "execution_count": 11,
   "id": "ec597f31",
   "metadata": {},
   "outputs": [],
   "source": [
    "import spotipy\n",
    "from spotipy.oauth2 import SpotifyClientCredentials\n",
    "import pandas as pd"
   ]
  },
  {
   "cell_type": "code",
   "execution_count": 12,
   "id": "e262de49",
   "metadata": {},
   "outputs": [],
   "source": [
    "from spotipy.oauth2 import SpotifyClientCredentials"
   ]
  },
  {
   "cell_type": "code",
   "execution_count": 13,
   "id": "7637a532",
   "metadata": {},
   "outputs": [],
   "source": [
    "client_id = 'fcf656d067d14ddbad5a015d217aec5b'\n",
    "client_secret = '30fbbb287e5541cc980499114cc54bda'\n",
    "\n",
    "client_credentials_manager = SpotifyClientCredentials(client_id=client_id, client_secret=client_secret)\n",
    "sp = spotipy.Spotify(client_credentials_manager=client_credentials_manager)"
   ]
  },
  {
   "cell_type": "code",
   "execution_count": 14,
   "id": "46a07c92",
   "metadata": {},
   "outputs": [],
   "source": [
    "df = pd.read_csv(r'C:\\Users\\madlin\\Desktop\\les notes de madeline\\mademoiselle madeline stuff boooom\\DS\\Applied DS Project\\Data\\Global Weekly Top 100 Songs\\CS703 Global Weekly Top 100 Songs.csv')"
   ]
  },
  {
   "cell_type": "code",
   "execution_count": 15,
   "id": "1fcc6f25",
   "metadata": {},
   "outputs": [],
   "source": [
    "for index, row in df.iterrows():\n",
    "    URI = row['URI']\n",
    "    audio_features = sp.audio_features([URI])[0]\n",
    "    \n",
    "    # Add the audio features to the dataframe\n",
    "    df.at[index, 'danceability'] = audio_features['danceability']\n",
    "    df.at[index, 'energy'] = audio_features['energy']\n",
    "    df.at[index, 'key'] = audio_features['key']\n",
    "    df.at[index, 'loudness'] = audio_features['loudness']\n",
    "    df.at[index, 'mode'] = audio_features['mode']\n",
    "    df.at[index, 'speechiness'] = audio_features['speechiness']\n",
    "    df.at[index, 'acousticness'] = audio_features['acousticness']\n",
    "    df.at[index, 'instrumentalness'] = audio_features['instrumentalness']\n",
    "    df.at[index, 'liveness'] = audio_features['liveness']\n",
    "    df.at[index, 'valence'] = audio_features['valence']\n",
    "    df.at[index, 'tempo'] = audio_features['tempo']\n",
    "    df.at[index, 'duration_ms'] = audio_features['duration_ms']"
   ]
  },
  {
   "cell_type": "code",
   "execution_count": 16,
   "id": "7be75706",
   "metadata": {},
   "outputs": [],
   "source": [
    "df.to_csv('Global Weekly Top 100 Song-new.csv', index=False)"
   ]
  }
 ],
 "metadata": {
  "kernelspec": {
   "display_name": "Python 3 (ipykernel)",
   "language": "python",
   "name": "python3"
  },
  "language_info": {
   "codemirror_mode": {
    "name": "ipython",
    "version": 3
   },
   "file_extension": ".py",
   "mimetype": "text/x-python",
   "name": "python",
   "nbconvert_exporter": "python",
   "pygments_lexer": "ipython3",
   "version": "3.9.13"
  }
 },
 "nbformat": 4,
 "nbformat_minor": 5
}
